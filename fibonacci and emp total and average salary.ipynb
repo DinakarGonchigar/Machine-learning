{
 "cells": [
  {
   "cell_type": "code",
   "execution_count": 9,
   "id": "eb699e07",
   "metadata": {},
   "outputs": [
    {
     "name": "stdout",
     "output_type": "stream",
     "text": [
      "1\n",
      "2\n",
      "3\n",
      "5\n",
      "8\n",
      "13\n",
      "21\n",
      "34\n",
      "55\n",
      "89\n",
      "144\n",
      "\n"
     ]
    }
   ],
   "source": [
    "n=10\n",
    "num1=0\n",
    "num2=1\n",
    "next_number=num2\n",
    "count=1\n",
    "while count<=n:\n",
    "    print(next_number,end=\"\\n\")\n",
    "    count+=1\n",
    "    num1,num2=num2,next_number\n",
    "    next_number=num1+num2\n",
    "print()"
   ]
  },
  {
   "cell_type": "code",
   "execution_count": 16,
   "id": "efe7c3fc",
   "metadata": {},
   "outputs": [
    {
     "name": "stdout",
     "output_type": "stream",
     "text": [
      "0\n",
      "1\n",
      "1\n",
      "2\n",
      "3\n",
      "5\n",
      "8\n",
      "13\n",
      "21\n",
      "34\n"
     ]
    }
   ],
   "source": [
    "def fibo(n):\n",
    "    if n<0:\n",
    "        print(\"incorrect\")\n",
    "    elif n == 0:\n",
    "        return 0\n",
    "    elif n == 1 or n == 2:\n",
    "        return 1\n",
    "    else:\n",
    "        return fibo(n-1) + fibo(n-2)\n",
    "nterm=10\n",
    "for i in range(nterm):\n",
    "    print(fibo(i))"
   ]
  },
  {
   "cell_type": "code",
   "execution_count": 18,
   "id": "2e5a24e0",
   "metadata": {},
   "outputs": [
    {
     "name": "stdout",
     "output_type": "stream",
     "text": [
      "Name:john\n",
      "Name:aba\n",
      "Name:dinu\n",
      "total sal:18000 is total salary of all\n",
      "avg salary:6000.0 is avg salary of all\n"
     ]
    }
   ],
   "source": [
    "employee=[\n",
    "{\"name\":\"john\",\"salary\":5000},  \n",
    "    {\"name\":\"aba\",\"salary\":6000}, {\"name\":\"dinu\",\"salary\":7000} \n",
    "]\n",
    "total_sal=sum(emp[\"salary\"] for emp in employee)\n",
    "avg_salary=total_sal/len(employee)\n",
    "for emp in employee:\n",
    "    print(f\"Name:{emp['name']}\")\n",
    "print(f\"total sal:{total_sal} is total salary of all\")   \n",
    "print(f\"avg salary:{avg_salary} is avg salary of all\")  "
   ]
  },
  {
   "cell_type": "code",
   "execution_count": null,
   "id": "ffc3e756",
   "metadata": {},
   "outputs": [],
   "source": []
  }
 ],
 "metadata": {
  "kernelspec": {
   "display_name": "Python 3 (ipykernel)",
   "language": "python",
   "name": "python3"
  },
  "language_info": {
   "codemirror_mode": {
    "name": "ipython",
    "version": 3
   },
   "file_extension": ".py",
   "mimetype": "text/x-python",
   "name": "python",
   "nbconvert_exporter": "python",
   "pygments_lexer": "ipython3",
   "version": "3.11.5"
  }
 },
 "nbformat": 4,
 "nbformat_minor": 5
}
