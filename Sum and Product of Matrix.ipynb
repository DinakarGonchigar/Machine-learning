{
 "cells": [
  {
   "cell_type": "code",
   "execution_count": 27,
   "id": "c1806d3c",
   "metadata": {},
   "outputs": [
    {
     "name": "stdout",
     "output_type": "stream",
     "text": [
      "matrix sum:\n",
      " [[ 6  8]\n",
      " [10 12]]\n",
      "matrix product: \n",
      " [[19 22]\n",
      " [43 50]]\n",
      "solution to Ax=B: [2. 3.]\n"
     ]
    }
   ],
   "source": [
    "import numpy as np \n",
    "from scipy import linalg\n",
    "matrix1 = np.array([[1, 2], [3, 4]])\n",
    "matrix2 = np.array([[5, 6], [7, 8]])\n",
    "matrix_sum = matrix1 + matrix2\n",
    "matrix_product = np.dot(matrix1, matrix2)\n",
    "print(\"matrix sum:\\n\", matrix_sum)\n",
    "print(\"matrix product: \\n\", matrix_product)\n",
    "A= np.array([[3,1], [1,2]])\n",
    "B= np.array([9, 8])\n",
    "solution=linalg.solve(A, B)\n",
    "print(\"solution to Ax=B:\", solution)"
   ]
  },
  {
   "cell_type": "code",
   "execution_count": null,
   "id": "aaf1e184",
   "metadata": {},
   "outputs": [],
   "source": []
  }
 ],
 "metadata": {
  "kernelspec": {
   "display_name": "Python 3 (ipykernel)",
   "language": "python",
   "name": "python3"
  },
  "language_info": {
   "codemirror_mode": {
    "name": "ipython",
    "version": 3
   },
   "file_extension": ".py",
   "mimetype": "text/x-python",
   "name": "python",
   "nbconvert_exporter": "python",
   "pygments_lexer": "ipython3",
   "version": "3.11.5"
  }
 },
 "nbformat": 4,
 "nbformat_minor": 5
}
